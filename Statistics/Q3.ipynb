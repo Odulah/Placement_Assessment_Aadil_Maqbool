{
 "cells": [
  {
   "cell_type": "markdown",
   "id": "bf4deb0b",
   "metadata": {},
   "source": [
    "Q-3. Consider the ‘Blood Pressure Before’ and ‘Blood Pressure After’ columns from the\n",
    "data and calculate the following\n",
    "https://drive.google.com/file/d/1mCjtYHiX--mMUjicuaP2gH3k-SnFxt8Y/view?usp=share_\n",
    "a. Measure the dispersion in both and interpret the results.\n",
    "b. Calculate mean and 5% confidence interval and plot it in a graph\n",
    "c. Calculate the Mean absolute deviation and Standard deviation and interpret\n",
    "the results.\n",
    "d. Calculate the correlation coefficient and check the significance of it at 1% level\n",
    "of significance."
   ]
  },
  {
   "cell_type": "code",
   "execution_count": 1,
   "id": "dea0c428",
   "metadata": {},
   "outputs": [],
   "source": [
    "import pandas as pd\n",
    "import numpy as np\n",
    "import scipy.stats as stats\n",
    "import matplotlib.pyplot as plt"
   ]
  },
  {
   "cell_type": "code",
   "execution_count": 2,
   "id": "ebac12b4",
   "metadata": {},
   "outputs": [],
   "source": [
    "# Loading the dataset\n",
    "df = pd.read_csv(\"dataq3.csv\")"
   ]
  },
  {
   "cell_type": "code",
   "execution_count": 3,
   "id": "5054383e",
   "metadata": {},
   "outputs": [],
   "source": [
    "# Selecting the 'Blood Pressure Before' and 'Blood Pressure After' columns\n",
    "bp_before = df[' Blood Pressure Before (mmHg)']\n",
    "bp_after = df[' Blood Pressure After (mmHg)']"
   ]
  },
  {
   "cell_type": "markdown",
   "id": "20876921",
   "metadata": {},
   "source": [
    "### a. Measure the dispersion in both and interpret the results"
   ]
  },
  {
   "cell_type": "code",
   "execution_count": 4,
   "id": "7b7a0ddc",
   "metadata": {},
   "outputs": [
    {
     "name": "stdout",
     "output_type": "stream",
     "text": [
      "Dispersion in Blood Pressure Before: 43.10189999999998\n",
      "Dispersion in Blood Pressure After: 46.97040000000002\n"
     ]
    }
   ],
   "source": [
    "dispersion_before = np.var(bp_before)\n",
    "dispersion_after = np.var(bp_after)\n",
    "print(\"Dispersion in Blood Pressure Before:\", dispersion_before)\n",
    "print(\"Dispersion in Blood Pressure After:\", dispersion_after)"
   ]
  },
  {
   "cell_type": "markdown",
   "id": "958814cb",
   "metadata": {},
   "source": [
    "### b. Calculate mean and 5% confidence interval and plot it in a graph"
   ]
  },
  {
   "cell_type": "code",
   "execution_count": 5,
   "id": "772479c7",
   "metadata": {},
   "outputs": [
    {
     "name": "stdout",
     "output_type": "stream",
     "text": [
      "Mean of Blood Pressure Before: 133.91\n",
      "5% Confidence Interval of Blood Pressure Before: (132.60075849172767, 135.21924150827232)\n"
     ]
    }
   ],
   "source": [
    "mean_before = np.mean(bp_before)\n",
    "mean_after = np.mean(bp_after)\n",
    "confidence_interval = stats.t.interval(0.95, len(df)-1, loc=mean_before, scale=stats.sem(bp_before))\n",
    "print(\"Mean of Blood Pressure Before:\", mean_before)\n",
    "print(\"5% Confidence Interval of Blood Pressure Before:\", confidence_interval)"
   ]
  },
  {
   "cell_type": "code",
   "execution_count": 6,
   "id": "7752fb97",
   "metadata": {},
   "outputs": [
    {
     "data": {
      "image/png": "[encoded data removed]",
      "text/plain": [
       "<Figure size 640x480 with 1 Axes>"
      ]
     },
     "metadata": {},
     "output_type": "display_data"
    }
   ],
   "source": [
    "# Plotting the mean and confidence interval\n",
    "plt.errorbar(x=1, y=mean_before, yerr=(confidence_interval[1] - mean_before), fmt='o', label='Mean')\n",
    "plt.axhline(mean_before, color='r', linestyle='--')\n",
    "plt.xticks([], [])\n",
    "plt.ylabel('Blood Pressure Before (mmHg)')\n",
    "plt.legend()\n",
    "plt.show()"
   ]
  },
  {
   "cell_type": "markdown",
   "id": "66910a0c",
   "metadata": {},
   "source": [
    "### c. Calculating the Mean absolute deviation and Standard deviation and interpret the results"
   ]
  },
  {
   "cell_type": "code",
   "execution_count": 7,
   "id": "babd2bd4",
   "metadata": {},
   "outputs": [
    {
     "name": "stdout",
     "output_type": "stream",
     "text": [
      "Mean Absolute Deviation of Blood Pressure Before: 5.7118\n",
      "Mean Absolute Deviation of Blood Pressure After: 5.9\n",
      "Standard Deviation of Blood Pressure Before: 6.5652037287505385\n",
      "Standard Deviation of Blood Pressure After: 6.853495458523338\n"
     ]
    }
   ],
   "source": [
    "mad_before = np.mean(np.abs(bp_before - np.mean(bp_before)))\n",
    "mad_after = np.mean(np.abs(bp_after - np.mean(bp_after)))\n",
    "std_dev_before = np.std(bp_before)\n",
    "std_dev_after = np.std(bp_after)\n",
    "print(\"Mean Absolute Deviation of Blood Pressure Before:\", mad_before)\n",
    "print(\"Mean Absolute Deviation of Blood Pressure After:\", mad_after)\n",
    "print(\"Standard Deviation of Blood Pressure Before:\", std_dev_before)\n",
    "print(\"Standard Deviation of Blood Pressure After:\", std_dev_after)"
   ]
  },
  {
   "cell_type": "markdown",
   "id": "6ec30569",
   "metadata": {},
   "source": [
    "### d. Calculate the correlation coefficient and check the significance at 1% level of significance"
   ]
  },
  {
   "cell_type": "code",
   "execution_count": 8,
   "id": "f1d6ca5a",
   "metadata": {},
   "outputs": [
    {
     "name": "stdout",
     "output_type": "stream",
     "text": [
      "Correlation Coefficient: 0.9779485966556019\n",
      "p-value: 1.8097381433068541e-68\n",
      "Correlation is significant at 1% level of significance.\n"
     ]
    }
   ],
   "source": [
    "correlation_coef, p_value = stats.pearsonr(bp_before, bp_after)\n",
    "print(\"Correlation Coefficient:\", correlation_coef)\n",
    "print(\"p-value:\", p_value)\n",
    "if p_value < 0.01:\n",
    "    print(\"Correlation is significant at 1% level of significance.\")\n",
    "else:\n",
    "    print(\"Correlation is not significant at 1% level of significance.\")"
   ]
  },
  {
   "cell_type": "code",
   "execution_count": null,
   "id": "91885214",
   "metadata": {},
   "outputs": [],
   "source": []
  }
 ],
 "metadata": {
  "kernelspec": {
   "display_name": "Python 3 (ipykernel)",
   "language": "python",
   "name": "python3"
  },
  "language_info": {
   "codemirror_mode": {
    "name": "ipython",
    "version": 3
   },
   "file_extension": ".py",
   "mimetype": "text/x-python",
   "name": "python",
   "nbconvert_exporter": "python",
   "pygments_lexer": "ipython3",
   "version": "3.10.9"
  }
 },
 "nbformat": 4,
 "nbformat_minor": 5
}
