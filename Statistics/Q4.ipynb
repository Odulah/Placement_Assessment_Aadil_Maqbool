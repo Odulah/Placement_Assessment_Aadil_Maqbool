{
 "cells": [
  {
   "cell_type": "markdown",
   "id": "c8a04036",
   "metadata": {},
   "source": [
    "Q-4. A group of 20 friends decide to play a game in which they each write a number\n",
    "between 1 and 20 on a slip of paper and put it into a hat. They then draw one slip of paper\n",
    "at random. What is the probability that the number on the slip of paper is a perfect square\n",
    "(i.e., 1, 4, 9, or 16)?"
   ]
  },
  {
   "cell_type": "markdown",
   "id": "0f52e901",
   "metadata": {},
   "source": [
    "The favorable outcomes are the perfect square numbers: 1, 4, 9, and 16.\n",
    "The total number of possible outcomes is 20, as there are 20 slips of paper in the hat."
   ]
  },
  {
   "cell_type": "code",
   "execution_count": 3,
   "id": "f534c7b1",
   "metadata": {},
   "outputs": [
    {
     "name": "stdout",
     "output_type": "stream",
     "text": [
      "The probability that the number on the slip of paper is a perfect square is: 0.2\n"
     ]
    }
   ],
   "source": [
    "favorable_outcomes = 4  # Number of perfect square numbers (1, 4, 9, 16)\n",
    "total_outcomes = 20  # Total number of possible outcomes (numbers between 1 and 20)\n",
    "\n",
    "probability = favorable_outcomes / total_outcomes\n",
    "\n",
    "print(\"The probability that the number on the slip of paper is a perfect square is:\", probability)\n"
   ]
  },
  {
   "cell_type": "markdown",
   "id": "58d9bac4",
   "metadata": {},
   "source": [
    "#### So, the probability of drawing a perfect square number is 0.2 or 20%."
   ]
  },
  {
   "cell_type": "code",
   "execution_count": null,
   "id": "a3ed2413",
   "metadata": {},
   "outputs": [],
   "source": []
  }
 ],
 "metadata": {
  "kernelspec": {
   "display_name": "Python 3 (ipykernel)",
   "language": "python",
   "name": "python3"
  },
  "language_info": {
   "codemirror_mode": {
    "name": "ipython",
    "version": 3
   },
   "file_extension": ".py",
   "mimetype": "text/x-python",
   "name": "python",
   "nbconvert_exporter": "python",
   "pygments_lexer": "ipython3",
   "version": "3.10.9"
  }
 },
 "nbformat": 4,
 "nbformat_minor": 5
}
