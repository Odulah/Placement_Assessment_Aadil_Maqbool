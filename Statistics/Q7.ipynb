{
 "cells": [
  {
   "cell_type": "markdown",
   "id": "4113c42b",
   "metadata": {},
   "source": [
    "Q-7. The equations of two lines of regression, obtained in a correlation analysis\n",
    "between variables X and Y are as follows:\n",
    "and . 2𝑋 + 3 − 8 = 0 2𝑌 + 𝑋 − 5 = 0 The variance of 𝑋 = 4 Find the\n",
    "a. Variance of Y\n",
    "b. Coefficient of determination of C and Y\n",
    "c. Standard error of estimate of X on Y and of Y on X."
   ]
  },
  {
   "cell_type": "markdown",
   "id": "b8567eb6",
   "metadata": {},
   "source": [
    "### Ans:\n",
    "To calculate the variance of Y, coefficient of determination (R-squared) of X and Y, and the standard error of estimate of X on Y and Y on X, we need the equations of the regression lines and the variance of X.\n",
    "\n",
    "Here's the code to calculate the required values:\n"
   ]
  },
  {
   "cell_type": "code",
   "execution_count": 2,
   "id": "11262f84",
   "metadata": {},
   "outputs": [
    {
     "name": "stdout",
     "output_type": "stream",
     "text": [
      "Variance of Y: 8\n",
      "Coefficient of determination (R-squared): 0.6666666666666666\n",
      "Standard error of estimate of X on Y: 1.1547005383792517\n",
      "Standard error of estimate of Y on X: 1.632993161855452\n"
     ]
    }
   ],
   "source": [
    "import numpy as np\n",
    "\n",
    "# Equations of the regression lines\n",
    "eq1 = lambda x: (2 * x + 3) / 8\n",
    "eq2 = lambda x: (5 - x) / 2\n",
    "\n",
    "# Variance of X\n",
    "variance_x = 4\n",
    "\n",
    "# Variance of Y\n",
    "variance_y = 2 * variance_x\n",
    "\n",
    "# Coefficient of determination (R-squared)\n",
    "r_squared = variance_y / (variance_x + variance_y)\n",
    "\n",
    "# Standard error of estimate of X on Y\n",
    "std_error_x_on_y = np.sqrt(variance_x * (1 - r_squared))\n",
    "\n",
    "# Standard error of estimate of Y on X\n",
    "std_error_y_on_x = np.sqrt(variance_y * (1 - r_squared))\n",
    "\n",
    "print(\"Variance of Y:\", variance_y)\n",
    "print(\"Coefficient of determination (R-squared):\", r_squared)\n",
    "print(\"Standard error of estimate of X on Y:\", std_error_x_on_y)\n",
    "print(\"Standard error of estimate of Y on X:\", std_error_y_on_x)\n"
   ]
  },
  {
   "cell_type": "code",
   "execution_count": null,
   "id": "f077faad",
   "metadata": {},
   "outputs": [],
   "source": []
  }
 ],
 "metadata": {
  "kernelspec": {
   "display_name": "Python 3 (ipykernel)",
   "language": "python",
   "name": "python3"
  },
  "language_info": {
   "codemirror_mode": {
    "name": "ipython",
    "version": 3
   },
   "file_extension": ".py",
   "mimetype": "text/x-python",
   "name": "python",
   "nbconvert_exporter": "python",
   "pygments_lexer": "ipython3",
   "version": "3.10.9"
  }
 },
 "nbformat": 4,
 "nbformat_minor": 5
}
