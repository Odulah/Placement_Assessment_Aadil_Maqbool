{
 "cells": [
  {
   "cell_type": "markdown",
   "id": "362125e7",
   "metadata": {},
   "source": [
    "Question 10 -\n",
    "\n",
    "Write a program to count the number of verbs, nouns, pronouns, and adjectives in a given particular phrase or\n",
    "paragraph, and return their respective count as a dictionary.\n",
    "\n",
    "Note -\n",
    "1. Write code comments wherever required for code\n",
    "2. You have to write at least 2 additional test cases in which your program will run successfully and provide\n",
    "an explanation for the same.\n"
   ]
  },
  {
   "cell_type": "code",
   "execution_count": 9,
   "id": "80fd67ae",
   "metadata": {},
   "outputs": [
    {
     "name": "stderr",
     "output_type": "stream",
     "text": [
      "[nltk_data] Downloading package punkt to\n",
      "[nltk_data]     C:\\Users\\DELL\\AppData\\Roaming\\nltk_data...\n",
      "[nltk_data]   Unzipping tokenizers\\punkt.zip.\n",
      "[nltk_data] Downloading package averaged_perceptron_tagger to\n",
      "[nltk_data]     C:\\Users\\DELL\\AppData\\Roaming\\nltk_data...\n",
      "[nltk_data]   Unzipping taggers\\averaged_perceptron_tagger.zip.\n"
     ]
    },
    {
     "data": {
      "text/plain": [
       "True"
      ]
     },
     "execution_count": 9,
     "metadata": {},
     "output_type": "execute_result"
    }
   ],
   "source": [
    "import nltk\n",
    "nltk.download('punkt')\n",
    "nltk.download('averaged_perceptron_tagger')"
   ]
  },
  {
   "cell_type": "code",
   "execution_count": 13,
   "id": "99c625f5",
   "metadata": {},
   "outputs": [
    {
     "data": {
      "text/plain": [
       "{'Noun': 2, 'Verb': 1, 'Pronoun': 1, 'Adjective': 1}"
      ]
     },
     "execution_count": 13,
     "metadata": {},
     "output_type": "execute_result"
    }
   ],
   "source": [
    "import nltk\n",
    "from nltk.tokenize import word_tokenize\n",
    "from nltk.tag import pos_tag\n",
    "\n",
    "def count_pos(para):\n",
    "    words = word_tokenize(para)  ## Tokenizing the paragraph/phrase into words\n",
    "    tagged_words = pos_tag(words)     ## Performing the part-of-speech tagging on the words\n",
    "    \n",
    "    # Initializing counts for each POS tag\n",
    "    counts = {\n",
    "        'Noun': 0,\n",
    "        'Verb': 0,\n",
    "        'Pronoun': 0,\n",
    "        'Adjective': 0\n",
    "    }\n",
    "    \n",
    "    # Count the number of occurrences for each POS tag\n",
    "    for word, tag in tagged_words:\n",
    "        if tag.startswith('N'):  # Noun\n",
    "            counts['Noun'] += 1\n",
    "        elif tag.startswith('V'):  # Verb\n",
    "            counts['Verb'] += 1\n",
    "        elif tag.startswith('PRP'):  # Pronoun\n",
    "            counts['Pronoun'] += 1\n",
    "        elif tag.startswith('JJ'):  # Adjective\n",
    "            counts['Adjective'] += 1\n",
    "    \n",
    "    return counts\n",
    "\n",
    "\n",
    "para = \"The name of my institute is iNeuron\"\n",
    "count_pos(para)"
   ]
  },
  {
   "cell_type": "code",
   "execution_count": 14,
   "id": "8cee052c",
   "metadata": {},
   "outputs": [
    {
     "data": {
      "text/plain": [
       "{'Noun': 2, 'Verb': 3, 'Pronoun': 1, 'Adjective': 0}"
      ]
     },
     "execution_count": 14,
     "metadata": {},
     "output_type": "execute_result"
    }
   ],
   "source": [
    "# Test Case1\n",
    "count_pos('I am going to be a data scientist')"
   ]
  },
  {
   "cell_type": "code",
   "execution_count": 15,
   "id": "a69d6c0d",
   "metadata": {},
   "outputs": [
    {
     "data": {
      "text/plain": [
       "{'Noun': 1, 'Verb': 1, 'Pronoun': 1, 'Adjective': 1}"
      ]
     },
     "execution_count": 15,
     "metadata": {},
     "output_type": "execute_result"
    }
   ],
   "source": [
    "# Test Case2\n",
    "count_pos('I am very good at communication')"
   ]
  },
  {
   "cell_type": "code",
   "execution_count": null,
   "id": "9528e1c7",
   "metadata": {},
   "outputs": [],
   "source": []
  }
 ],
 "metadata": {
  "kernelspec": {
   "display_name": "Python 3 (ipykernel)",
   "language": "python",
   "name": "python3"
  },
  "language_info": {
   "codemirror_mode": {
    "name": "ipython",
    "version": 3
   },
   "file_extension": ".py",
   "mimetype": "text/x-python",
   "name": "python",
   "nbconvert_exporter": "python",
   "pygments_lexer": "ipython3",
   "version": "3.10.9"
  }
 },
 "nbformat": 4,
 "nbformat_minor": 5
}
