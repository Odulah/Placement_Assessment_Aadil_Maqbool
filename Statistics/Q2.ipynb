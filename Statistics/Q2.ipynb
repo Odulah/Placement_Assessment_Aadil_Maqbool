{
 "cells": [
  {
   "cell_type": "markdown",
   "id": "0dfec673",
   "metadata": {},
   "source": [
    "Q-2. Consider a dataset containing the heights (in centimeters) of 1000 individuals. The\n",
    "mean height is 170 cm with a standard deviation of 10 cm. The dataset is approximately\n",
    "normally distributed, and its skewness is approximately zero. Based on this information,\n",
    "answer the following questions:\n",
    "a. What percentage of individuals in the dataset have heights between 160 cm\n",
    "and 180 cm?\n",
    "b. If we randomly select 100 individuals from the dataset, what is the probability\n",
    "that their average height is greater than 175 cm?\n",
    "c. Assuming the dataset follows a normal distribution, what is the z-score\n",
    "corresponding to a height of 185 cm?\n",
    "d. We know that 5% of the dataset has heights below a certain value. What is\n",
    "the approximate height corresponding to this threshold?\n",
    "e. Calculate the coefficient of variation (CV) for the dataset.\n",
    "f. Calculate the skewness of the dataset and interpret the result."
   ]
  },
  {
   "cell_type": "code",
   "execution_count": 3,
   "id": "07df3cac",
   "metadata": {},
   "outputs": [],
   "source": [
    "import scipy.stats as stats"
   ]
  },
  {
   "cell_type": "markdown",
   "id": "87ccd160",
   "metadata": {},
   "source": [
    "### a. Percentage of individuals with heights between 160 cm and 180 cm\n"
   ]
  },
  {
   "cell_type": "markdown",
   "id": "c2071ab7",
   "metadata": {},
   "source": [
    "To calculate the percentage of individuals with heights between 160 cm and 180 cm, we can use the cumulative distribution function (CDF) of the normal distribution.  Assuming a normal distribution with a mean of 170 cm and a standard deviation of 10 cm, we can calculate the percentage using the formula: CDF(180) - CDF(160).Since the dataset is approximately normally distributed, we can use the z-scores to calculate the probabilities."
   ]
  },
  {
   "cell_type": "code",
   "execution_count": 5,
   "id": "006769bf",
   "metadata": {},
   "outputs": [
    {
     "name": "stdout",
     "output_type": "stream",
     "text": [
      "The percentage of individuals with heights between 160 cm and 180 cm is: 68.26894921370858%\n"
     ]
    }
   ],
   "source": [
    "# Given information\n",
    "mean = 170\n",
    "std_dev = 10\n",
    "\n",
    "# Calculate the z-scores for the heights\n",
    "z_160 = (160 - mean) / std_dev\n",
    "z_180 = (180 - mean) / std_dev\n",
    "\n",
    "# Calculate the percentage using the cumulative distribution function (CDF)\n",
    "percentage = (stats.norm.cdf(z_180) - stats.norm.cdf(z_160)) * 100\n",
    "\n",
    "print(f\"The percentage of individuals with heights between 160 cm and 180 cm is: {percentage}%\")"
   ]
  },
  {
   "cell_type": "markdown",
   "id": "8cadec69",
   "metadata": {},
   "source": [
    "### b. Probability that the average height of 100 individuals is greater than 175 cm\n"
   ]
  },
  {
   "cell_type": "markdown",
   "id": "aa004901",
   "metadata": {},
   "source": [
    "To calculate the probability that the average height of 100 randomly selected individuals is greater than 175 cm, we can use the Central Limit Theorem. According to the Central Limit Theorem, the distribution of sample means approaches a normal distribution as the sample size increases, even if the population is not normally distributed."
   ]
  },
  {
   "cell_type": "code",
   "execution_count": 6,
   "id": "f7b710c8",
   "metadata": {},
   "outputs": [
    {
     "name": "stdout",
     "output_type": "stream",
     "text": [
      "The probability that the average height of 100 individuals is greater than 175 cm is: 2.866515719235352e-07\n"
     ]
    }
   ],
   "source": [
    "import math\n",
    "\n",
    "sample_size = 100\n",
    "sample_mean = mean\n",
    "sample_std_dev = std_dev / math.sqrt(sample_size)\n",
    "\n",
    "# Calculate the z-score for 175 cm using the sample mean and standard deviation\n",
    "z_175 = (175 - sample_mean) / sample_std_dev\n",
    "\n",
    "# Calculate the probability using the cumulative distribution function (CDF)\n",
    "probability = 1 - stats.norm.cdf(z_175)\n",
    "\n",
    "print(f\"The probability that the average height of 100 individuals is greater than 175 cm is: {probability}\")\n"
   ]
  },
  {
   "cell_type": "markdown",
   "id": "e3723050",
   "metadata": {},
   "source": [
    "### c. Z-score corresponding to a height of 185 cm\n"
   ]
  },
  {
   "cell_type": "markdown",
   "id": "860763ed",
   "metadata": {},
   "source": [
    "To find the z-score corresponding to a height of 185 cm, we can use the formula:\n"
   ]
  },
  {
   "cell_type": "code",
   "execution_count": 4,
   "id": "2f4b6022",
   "metadata": {},
   "outputs": [
    {
     "name": "stdout",
     "output_type": "stream",
     "text": [
      "c. Z-score corresponding to a height of 185 cm: 1.5\n"
     ]
    }
   ],
   "source": [
    "x = 185\n",
    "z = (x - mean) / std_dev\n",
    "print(\"c. Z-score corresponding to a height of 185 cm:\", z)"
   ]
  },
  {
   "cell_type": "markdown",
   "id": "6a3cc5fe",
   "metadata": {},
   "source": [
    "### d. Approximate height corresponding to 5% threshold\n"
   ]
  },
  {
   "cell_type": "markdown",
   "id": "4490126f",
   "metadata": {},
   "source": [
    "If 5% of the dataset has heights below a certain value, we can use the inverse cumulative distribution function (CDF) to find the corresponding height.Using the inverse CDF (also known as the percent-point function or quantile function) of the normal distribution, we can find the height corresponding to the probability of 0.05."
   ]
  },
  {
   "cell_type": "code",
   "execution_count": 5,
   "id": "a3da1f99",
   "metadata": {},
   "outputs": [
    {
     "name": "stdout",
     "output_type": "stream",
     "text": [
      "d. Approximate height corresponding to 5% threshold: 153.55146373048527\n"
     ]
    }
   ],
   "source": [
    "threshold = stats.norm.ppf(0.05) * std_dev + mean\n",
    "print(\"d. Approximate height corresponding to 5% threshold:\", threshold)"
   ]
  },
  {
   "cell_type": "markdown",
   "id": "76beba15",
   "metadata": {},
   "source": [
    "### e. Coefficient of variation (CV)\n"
   ]
  },
  {
   "cell_type": "markdown",
   "id": "2395c191",
   "metadata": {},
   "source": [
    "The coefficient of variation (CV) is a measure of relative variability and is calculated as the ratio of the standard deviation to the mean. It provides a standardized measure of dispersion relative to the mean."
   ]
  },
  {
   "cell_type": "code",
   "execution_count": 6,
   "id": "38317fb5",
   "metadata": {},
   "outputs": [
    {
     "name": "stdout",
     "output_type": "stream",
     "text": [
      "e. Coefficient of variation (CV): 5.88235294117647\n"
     ]
    }
   ],
   "source": [
    "cv = (std_dev / mean) * 100\n",
    "print(\"e. Coefficient of variation (CV):\", cv)"
   ]
  },
  {
   "cell_type": "markdown",
   "id": "225dc75c",
   "metadata": {},
   "source": [
    "### f. Skewness of the dataset\n"
   ]
  },
  {
   "cell_type": "markdown",
   "id": "97402c51",
   "metadata": {},
   "source": [
    "Skewness is a measure of the asymmetry of a distribution. It indicates whether the dataset is skewed to the left or right.\n",
    "\n",
    "To calculate the skewness of the dataset, we can use the skewness formula."
   ]
  },
  {
   "cell_type": "code",
   "execution_count": 10,
   "id": "8d577eb3",
   "metadata": {},
   "outputs": [
    {
     "name": "stdout",
     "output_type": "stream",
     "text": [
      "The skewness of the dataset is: 0.036435871633507796\n"
     ]
    }
   ],
   "source": [
    "skewness = stats.skew(dataset)\n",
    "\n",
    "print(f\"The skewness of the dataset is: {skewness}\")\n"
   ]
  },
  {
   "cell_type": "code",
   "execution_count": 9,
   "id": "66c3714c",
   "metadata": {},
   "outputs": [
    {
     "data": {
      "image/png": "[encoded data removed]",
      "text/plain": [
       "<Figure size 640x480 with 1 Axes>"
      ]
     },
     "metadata": {},
     "output_type": "display_data"
    },
    {
     "name": "stdout",
     "output_type": "stream",
     "text": [
      "The skewness of the dataset is: 0.036435871633507796\n"
     ]
    }
   ],
   "source": [
    "import numpy as np\n",
    "import matplotlib.pyplot as plt\n",
    "from scipy.stats import skew\n",
    "\n",
    "# Generate a normally distributed dataset with a mean of 170 and standard deviation of 10\n",
    "mean = 170\n",
    "std_dev = 10\n",
    "dataset = np.random.normal(mean, std_dev, 1000)\n",
    "\n",
    "# Calculate the skewness of the dataset\n",
    "skewness = skew(dataset)\n",
    "\n",
    "# Plot the histogram\n",
    "plt.hist(dataset, bins=30)\n",
    "plt.xlabel('Height (cm)')\n",
    "plt.ylabel('Frequency')\n",
    "plt.title('Histogram of Height Distribution')\n",
    "plt.grid(True)\n",
    "\n",
    "plt.show()\n",
    "\n",
    "print(f\"The skewness of the dataset is: {skewness}\")\n"
   ]
  },
  {
   "cell_type": "code",
   "execution_count": null,
   "id": "335e08ef",
   "metadata": {},
   "outputs": [],
   "source": []
  }
 ],
 "metadata": {
  "kernelspec": {
   "display_name": "Python 3 (ipykernel)",
   "language": "python",
   "name": "python3"
  },
  "language_info": {
   "codemirror_mode": {
    "name": "ipython",
    "version": 3
   },
   "file_extension": ".py",
   "mimetype": "text/x-python",
   "name": "python",
   "nbconvert_exporter": "python",
   "pygments_lexer": "ipython3",
   "version": "3.10.9"
  }
 },
 "nbformat": 4,
 "nbformat_minor": 5
}
