{
 "cells": [
  {
   "cell_type": "markdown",
   "id": "3de4b2da",
   "metadata": {},
   "source": [
    "Q-5. A certain city has two taxi companies: Company A has 80% of the taxis and\n",
    "Company B has 20% of the taxis. Company A's taxis have a 95% success rate for picking\n",
    "up passengers on time, while Company B's taxis have a 90% success rate. If a randomly\n",
    "selected taxi is late, what is the probability that it belongs to Company A?"
   ]
  },
  {
   "cell_type": "markdown",
   "id": "18d14db3",
   "metadata": {},
   "source": [
    "#### Ans:-\n",
    "To calculate the probability that a randomly selected late taxi belongs to Company A, we can use Bayes' theorem. Bayes' theorem states that the probability of an event A given event B is equal to the probability of event B given event A multiplied by the probability of event A, divided by the probability of event B."
   ]
  },
  {
   "cell_type": "code",
   "execution_count": 1,
   "id": "3e7a11e9",
   "metadata": {},
   "outputs": [
    {
     "name": "stdout",
     "output_type": "stream",
     "text": [
      "The probability that a randomly selected late taxi belongs to Company A is: 0.6666666666666669\n"
     ]
    }
   ],
   "source": [
    "# Probability of selecting Company A's taxi\n",
    "prob_company_a = 0.8\n",
    "\n",
    "# Probability of selecting Company B's taxi\n",
    "prob_company_b = 0.2\n",
    "\n",
    "# Probability of a taxi from Company A being late\n",
    "prob_late_given_a = 1 - 0.95  # 1 minus the success rate of Company A's taxis\n",
    "\n",
    "# Probability of a taxi from Company B being late\n",
    "prob_late_given_b = 1 - 0.9  # 1 minus the success rate of Company B's taxis\n",
    "\n",
    "# Applying Bayes' theorem\n",
    "prob_a_given_late = (prob_late_given_a * prob_company_a) / ((prob_late_given_a * prob_company_a) + (prob_late_given_b * prob_company_b))\n",
    "\n",
    "print(\"The probability that a randomly selected late taxi belongs to Company A is:\", prob_a_given_late)\n"
   ]
  },
  {
   "cell_type": "markdown",
   "id": "3d5b8e35",
   "metadata": {},
   "source": [
    "### The probability that a randomly selected late taxi belongs to Company A is: 0.6666666666666669\n"
   ]
  },
  {
   "cell_type": "code",
   "execution_count": null,
   "id": "b0f381b7",
   "metadata": {},
   "outputs": [],
   "source": []
  }
 ],
 "metadata": {
  "kernelspec": {
   "display_name": "Python 3 (ipykernel)",
   "language": "python",
   "name": "python3"
  },
  "language_info": {
   "codemirror_mode": {
    "name": "ipython",
    "version": 3
   },
   "file_extension": ".py",
   "mimetype": "text/x-python",
   "name": "python",
   "nbconvert_exporter": "python",
   "pygments_lexer": "ipython3",
   "version": "3.10.9"
  }
 },
 "nbformat": 4,
 "nbformat_minor": 5
}
