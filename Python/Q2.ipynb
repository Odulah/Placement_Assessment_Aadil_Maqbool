{
 "cells": [
  {
   "cell_type": "markdown",
   "id": "c96167a9",
   "metadata": {},
   "source": [
    "Question 2: -\n",
    "    \n",
    "Consider a string to be valid if all characters of the string appear the same number of times. It is also valid if\n",
    "he can remove just one character at the index in the string, and the remaining characters will occur the same\n",
    "number of times. Given a string, determine if it is valid. If so, return YES , otherwise return NO .\n",
    "\n",
    "Note - You have to write at least 2 additional test cases in which your program will run successfully and provide\n",
    "an explanation for the same.\n",
    "\n",
    "Example input 1 - s = “abc”. This is a valid string because frequencies are { “a”: 1, “b”: 1, “c”: 1 }\n",
    "Example output 1- YES\n",
    "\n",
    "Example input 2 - s “abcc”. This string is not valid as we can remove only 1 occurrence of “c”. That leaves\n",
    "character frequencies of { “a”: 1, “b”: 1 , “c”: 2 }\n",
    "Example output 2 - NO\n"
   ]
  },
  {
   "cell_type": "code",
   "execution_count": 15,
   "id": "3cc9b3d5",
   "metadata": {},
   "outputs": [
    {
     "name": "stdout",
     "output_type": "stream",
     "text": [
      "Enter a string: nbhhhjjkfsdahd\n",
      "NO\n"
     ]
    }
   ],
   "source": [
    "def valid_string(s):\n",
    "    char_count = {}\n",
    "    \n",
    "    # Counting the frequency of each character\n",
    "    for char in s:\n",
    "        if char in char_count:\n",
    "            char_count[char] += 1\n",
    "        else:\n",
    "            char_count[char] = 1\n",
    "    \n",
    "    # Getting the frequencies of the characters\n",
    "    freq_values = list(char_count.values())\n",
    "    \n",
    "    # Checking if all frequencies are the same\n",
    "    if all(freq == freq_values[0] for freq in freq_values):\n",
    "        return \"YES\"\n",
    "    \n",
    "    # Checking if removing one character can make all frequencies the same\n",
    "    for i in range(len(freq_values)):\n",
    "        freq_values[i] -= 1\n",
    "        \n",
    "        if all(freq == freq_values[0] for freq in freq_values):\n",
    "            return \"YES\"\n",
    "        \n",
    "        freq_values[i] += 1\n",
    "    \n",
    "    return \"NO\"\n",
    "\n",
    "\n",
    "# Testing the function\n",
    "input_string = input(\"Enter a string: \")\n",
    "result = valid_string(input_string)\n",
    "print(result)\n"
   ]
  },
  {
   "cell_type": "code",
   "execution_count": 10,
   "id": "fdbe53fc",
   "metadata": {},
   "outputs": [
    {
     "name": "stdout",
     "output_type": "stream",
     "text": [
      "Enter a string: aabbcc\n",
      "YES\n"
     ]
    }
   ],
   "source": [
    "input_string = input(\"Enter a string: \")\n",
    "result = is_valid_string(input_string)\n",
    "print(result)"
   ]
  },
  {
   "cell_type": "code",
   "execution_count": 16,
   "id": "c0b15259",
   "metadata": {},
   "outputs": [
    {
     "name": "stdout",
     "output_type": "stream",
     "text": [
      "Enter a string: aabbccdd\n",
      "YES\n"
     ]
    }
   ],
   "source": [
    "input_string = input(\"Enter a string: \")\n",
    "result = valid_string(input_string)\n",
    "print(result)"
   ]
  },
  {
   "cell_type": "code",
   "execution_count": null,
   "id": "01dbe46f",
   "metadata": {},
   "outputs": [],
   "source": []
  }
 ],
 "metadata": {
  "kernelspec": {
   "display_name": "Python 3 (ipykernel)",
   "language": "python",
   "name": "python3"
  },
  "language_info": {
   "codemirror_mode": {
    "name": "ipython",
    "version": 3
   },
   "file_extension": ".py",
   "mimetype": "text/x-python",
   "name": "python",
   "nbconvert_exporter": "python",
   "pygments_lexer": "ipython3",
   "version": "3.10.9"
  }
 },
 "nbformat": 4,
 "nbformat_minor": 5
}
